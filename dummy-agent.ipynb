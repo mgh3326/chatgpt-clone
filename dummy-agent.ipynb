{
 "cells": [
  {
   "cell_type": "code",
   "id": "initial_id",
   "metadata": {
    "collapsed": true,
    "ExecuteTime": {
     "end_time": "2025-09-25T23:50:57.422877Z",
     "start_time": "2025-09-25T23:50:57.416453Z"
    }
   },
   "source": [
    "from agents import Agent, Runner, function_tool, ItemHelpers\n",
    "from dotenv import load_dotenv\n",
    "\n",
    "load_dotenv()\n",
    "\n",
    "from agents import Agent, Runner, function_tool, SQLiteSession\n",
    "\n",
    "session = SQLiteSession(\"user_1\", \"ai-memory.db\")\n",
    "\n",
    "\n",
    "@function_tool\n",
    "def get_weather(city: str):\n",
    "    \"\"\"Get weather by city\"\"\"\n",
    "    return \"30 degrees\"\n",
    "\n",
    "\n",
    "agent = Agent(\n",
    "    name=\"Assistant Agent\",\n",
    "    instructions=\"You are a helpful assistant. Use tools when needed to answer questions\",\n",
    "    tools=[get_weather],\n",
    ")"
   ],
   "outputs": [],
   "execution_count": 4
  },
  {
   "metadata": {
    "ExecuteTime": {
     "end_time": "2025-09-25T23:50:59.372838Z",
     "start_time": "2025-09-25T23:50:57.439913Z"
    }
   },
   "cell_type": "code",
   "source": [
    "\n",
    "result = await Runner.run(\n",
    "    agent,\n",
    "    \"What was my name again?\",\n",
    "    session=session,\n",
    ")\n",
    "\n",
    "print(result.final_output)"
   ],
   "id": "854564fd4c214f3d",
   "outputs": [
    {
     "name": "stdout",
     "output_type": "stream",
     "text": [
      "You haven’t told me your name yet! If you’d like, you can share your name with me now.\n"
     ]
    }
   ],
   "execution_count": 5
  },
  {
   "metadata": {
    "ExecuteTime": {
     "end_time": "2025-09-25T23:50:59.422083Z",
     "start_time": "2025-09-25T23:50:59.412646Z"
    }
   },
   "cell_type": "code",
   "source": "await session.get_items()\n",
   "id": "8eb8595ac67deaf",
   "outputs": [
    {
     "data": {
      "text/plain": [
       "[{'content': 'What was my name again?', 'role': 'user'},\n",
       " {'id': 'msg_68d5d562b2a881a0a3057efeb6027eea046aa890373480e1',\n",
       "  'content': [{'annotations': [],\n",
       "    'text': 'You haven’t told me your name yet! If you’d like, you can share your name with me now.',\n",
       "    'type': 'output_text',\n",
       "    'logprobs': []}],\n",
       "  'role': 'assistant',\n",
       "  'status': 'completed',\n",
       "  'type': 'message'}]"
      ]
     },
     "execution_count": 6,
     "metadata": {},
     "output_type": "execute_result"
    }
   ],
   "execution_count": 6
  }
 ],
 "metadata": {
  "kernelspec": {
   "display_name": "Python 3",
   "language": "python",
   "name": "python3"
  },
  "language_info": {
   "codemirror_mode": {
    "name": "ipython",
    "version": 2
   },
   "file_extension": ".py",
   "mimetype": "text/x-python",
   "name": "python",
   "nbconvert_exporter": "python",
   "pygments_lexer": "ipython2",
   "version": "2.7.6"
  }
 },
 "nbformat": 4,
 "nbformat_minor": 5
}
