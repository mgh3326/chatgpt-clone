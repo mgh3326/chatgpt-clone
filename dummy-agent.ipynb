{
 "cells": [
  {
   "cell_type": "code",
   "id": "initial_id",
   "metadata": {
    "collapsed": true,
    "ExecuteTime": {
     "end_time": "2025-09-27T04:40:51.258263Z",
     "start_time": "2025-09-27T04:40:51.243236Z"
    }
   },
   "source": [
    "\n",
    "from agents import Agent, Runner, SQLiteSession, function_tool, trace\n",
    "from dotenv import load_dotenv\n",
    "from pydantic import BaseModel\n",
    "\n",
    "load_dotenv()\n",
    "session = SQLiteSession(\"user_111111\", \"ai-memory.db\")\n",
    "\n",
    "\n",
    "class Answer(BaseModel):\n",
    "    answer: str\n",
    "    background_explanation: str\n",
    "\n",
    "\n",
    "@function_tool\n",
    "def get_weather():\n",
    "    return \"30\"\n",
    "\n",
    "\n",
    "geaography_agent = Agent(\n",
    "    name=\"Geo Expert Agent\",\n",
    "    instructions=\"You are a expert in geography, you answer questions related to them.\",\n",
    "    handoff_description=\"Use this to answer geography related questions.\",\n",
    "    tools=[\n",
    "        get_weather,\n",
    "    ],\n",
    "    output_type=Answer,\n",
    ")\n",
    "economics_agent = Agent(\n",
    "    name=\"Economics Expert Agent\",\n",
    "    instructions=\"You are a expert in economics, you answer questions related to them.\",\n",
    "    handoff_description=\"Use this to answer economics questions.\",\n",
    ")\n",
    "\n",
    "main_agent = Agent(\n",
    "    name=\"Main Agent\",\n",
    "    instructions=\"You are a user facing agent. Transfer to the agent most capable of answering the user's question.\",\n",
    "    handoffs=[\n",
    "        economics_agent,\n",
    "        geaography_agent,\n",
    "    ],\n",
    ")\n",
    "\n",
    "# draw_graph(main_agent)"
   ],
   "outputs": [],
   "execution_count": 18
  },
  {
   "metadata": {
    "ExecuteTime": {
     "end_time": "2025-09-27T04:41:05.618261Z",
     "start_time": "2025-09-27T04:40:51.265123Z"
    }
   },
   "cell_type": "code",
   "source": [
    "with trace(\"user_111111\"):\n",
    "    result = await Runner.run(\n",
    "        main_agent,\n",
    "        \"What is the capital of Colombia's northen province.\",\n",
    "        session=session,\n",
    "    )\n",
    "    result = await Runner.run(\n",
    "        main_agent,\n",
    "        \"What is the capital of Cambodia's northen province.\",\n",
    "        session=session,\n",
    "    )\n",
    "    result = await Runner.run(\n",
    "        main_agent,\n",
    "        \"What is the capital of Thailand's northen province.\",\n",
    "        session=session,\n",
    "    )"
   ],
   "id": "854564fd4c214f3d",
   "outputs": [],
   "execution_count": 19
  }
 ],
 "metadata": {
  "kernelspec": {
   "display_name": "Python 3",
   "language": "python",
   "name": "python3"
  },
  "language_info": {
   "codemirror_mode": {
    "name": "ipython",
    "version": 2
   },
   "file_extension": ".py",
   "mimetype": "text/x-python",
   "name": "python",
   "nbconvert_exporter": "python",
   "pygments_lexer": "ipython2",
   "version": "2.7.6"
  }
 },
 "nbformat": 4,
 "nbformat_minor": 5
}
