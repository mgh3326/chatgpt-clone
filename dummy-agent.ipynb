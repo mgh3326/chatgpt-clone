{
 "cells": [
  {
   "cell_type": "code",
   "id": "initial_id",
   "metadata": {
    "collapsed": true,
    "ExecuteTime": {
     "end_time": "2025-09-26T04:21:21.736703Z",
     "start_time": "2025-09-26T04:21:21.719501Z"
    }
   },
   "source": [
    "\n",
    "from dotenv import load_dotenv\n",
    "\n",
    "load_dotenv()\n",
    "\n",
    "from agents import Agent, Runner, SQLiteSession\n",
    "\n",
    "session = SQLiteSession(\"user_1\", \"ai-memory.db\")\n",
    "\n",
    "\n",
    "geaography_agent = Agent(\n",
    "    name=\"Geo Expert Agent\",\n",
    "    instructions=\"You are a expert in geography, you answer questions related to them.\",\n",
    "    handoff_description=\"Use this to answer geography related questions.\",\n",
    ")\n",
    "economics_agent = Agent(\n",
    "    name=\"Economics Expert Agent\",\n",
    "    instructions=\"You are a expert in economics, you answer questions related to them.\",\n",
    "    handoff_description=\"Use this to answer economics questions.\",\n",
    ")\n",
    "\n",
    "main_agent = Agent(\n",
    "    name=\"Main Agent\",\n",
    "    instructions=\"You are a user facing agent. Transfer to the agent most capable of answering the user's question.\",\n",
    "    handoffs=[\n",
    "        economics_agent,\n",
    "        geaography_agent,\n",
    "    ],\n",
    ")"
   ],
   "outputs": [],
   "execution_count": 7
  },
  {
   "metadata": {
    "ExecuteTime": {
     "end_time": "2025-09-26T04:21:34.809812Z",
     "start_time": "2025-09-26T04:21:21.742114Z"
    }
   },
   "cell_type": "code",
   "source": [
    "result = await Runner.run(\n",
    "    main_agent,\n",
    "    \"Why do countries sell bonds?\",\n",
    "    session=session,\n",
    ")\n",
    "\n",
    "print(result.last_agent.name)\n",
    "print(result.final_output)"
   ],
   "id": "854564fd4c214f3d",
   "outputs": [
    {
     "name": "stdout",
     "output_type": "stream",
     "text": [
      "Economics Expert Agent\n",
      "Countries sell bonds primarily to raise money for government spending. Here’s a breakdown of why and how this works:\n",
      "\n",
      "1. **Financing Budget Deficits**: When a government’s expenditures exceed its revenues (taxes), it runs a budget deficit. To cover this gap, the government borrows money by issuing (selling) bonds.\n",
      "\n",
      "2. **Funding Investments**: Sometimes, even if there isn’t a deficit, countries issue bonds to finance long-term projects like infrastructure, education, or military investments without immediately increasing taxes.\n",
      "\n",
      "3. **Managing Cash Flow**: Short-term bonds help governments manage their day-to-day cash needs, ensuring they can pay salaries, pensions, and bills on time even if tax revenues are seasonal or irregular.\n",
      "\n",
      "4. **Setting Benchmarks**: Government bonds often serve as a “benchmark” for interest rates in the economy because they are considered very safe. The rates set through government bonds influence borrowing costs for businesses and households.\n",
      "\n",
      "**How it works**: \n",
      "- Investors (like banks, pension funds, and individuals) buy these bonds, effectively lending money to the government.\n",
      "- In return, the government promises to pay back the amount at a future date (maturity) and to pay periodic interest (coupon payments) until maturity.\n",
      "\n",
      "**In short**:  \n",
      "Governments sell bonds as a way to borrow money—either to cover shortfalls, fund investments, or manage finances more efficiently.\n"
     ]
    }
   ],
   "execution_count": 8
  }
 ],
 "metadata": {
  "kernelspec": {
   "display_name": "Python 3",
   "language": "python",
   "name": "python3"
  },
  "language_info": {
   "codemirror_mode": {
    "name": "ipython",
    "version": 2
   },
   "file_extension": ".py",
   "mimetype": "text/x-python",
   "name": "python",
   "nbconvert_exporter": "python",
   "pygments_lexer": "ipython2",
   "version": "2.7.6"
  }
 },
 "nbformat": 4,
 "nbformat_minor": 5
}
